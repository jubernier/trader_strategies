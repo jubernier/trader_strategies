{
 "cells": [
  {
   "cell_type": "markdown",
   "metadata": {
    "collapsed": false
   },
   "source": [
    "### Import des bibliothèques\n",
    "\n"
   ]
  },
  {
   "cell_type": "code",
   "execution_count": 1,
   "metadata": {
    "collapsed": false
   },
   "outputs": [
    {
     "ename": "ModuleNotFoundError",
     "evalue": "No module named 'pandas'",
     "output_type": "error",
     "traceback": [
      "\u001b[1;31m---------------------------------------------------------------------------\u001b[0m",
      "\u001b[1;31mModuleNotFoundError\u001b[0m                       Traceback (most recent call last)",
      "Cell \u001b[1;32mIn[1], line 1\u001b[0m\n\u001b[1;32m----> 1\u001b[0m \u001b[38;5;28;01mimport\u001b[39;00m \u001b[38;5;21;01mpandas\u001b[39;00m \u001b[38;5;28;01mas\u001b[39;00m \u001b[38;5;21;01mpd\u001b[39;00m\n\u001b[0;32m      2\u001b[0m \u001b[38;5;28;01mimport\u001b[39;00m \u001b[38;5;21;01mnumpy\u001b[39;00m \u001b[38;5;28;01mas\u001b[39;00m \u001b[38;5;21;01mnp\u001b[39;00m\n\u001b[0;32m      3\u001b[0m \u001b[38;5;28;01mimport\u001b[39;00m \u001b[38;5;21;01mmatplotlib\u001b[39;00m\u001b[38;5;21;01m.\u001b[39;00m\u001b[38;5;21;01mpyplot\u001b[39;00m \u001b[38;5;28;01mas\u001b[39;00m \u001b[38;5;21;01mplt\u001b[39;00m\n",
      "\u001b[1;31mModuleNotFoundError\u001b[0m: No module named 'pandas'"
     ]
    }
   ],
   "source": [
    "import pandas as pd\n",
    "import numpy as np\n",
    "import matplotlib.pyplot as plt\n",
    "import seaborn as sns\n",
    "import random\n",
    "import warnings\n",
    "\n",
    "from arch import arch_model\n",
    "    \n",
    "from datetime import datetime, timedelta\n",
    "#import datetime\n",
    "\n",
    "# import tensorflow as tf\n",
    "\n",
    "from numpy import array\n",
    "\n",
    "from statsmodels.tsa.stattools import adfuller\n",
    "from statsmodels.tsa.seasonal import seasonal_decompose\n",
    "from statsmodels.tsa.arima.model import ARIMA\n",
    "from statsmodels.tsa.stattools import acf, pacf\n",
    "from statsmodels.tsa.ar_model import AutoReg\n",
    "from statsmodels.tsa.stattools import arma_order_select_ic\n",
    "\n",
    "from statsmodels.tsa.stattools import adfuller\n",
    "from statsmodels.tsa.stattools import kpss\n",
    "\n",
    "from statsmodels.tsa.holtwinters import SimpleExpSmoothing \n",
    "from statsmodels.tsa.holtwinters import ExponentialSmoothing\n",
    "\n",
    "from statsmodels.graphics.tsaplots import plot_pacf\n",
    "\n",
    "import os\n",
    "import csv\n",
    "\n",
    "import math\n",
    "\n",
    "from IPython.display import Markdown, display\n",
    "\n",
    "def printmd(string):\n",
    "    display(Markdown(string))"
   ]
  },
  {
   "cell_type": "markdown",
   "metadata": {
    "collapsed": false
   },
   "source": [
    "### Classe Loader\n",
    "\n",
    "Classe pour charger les valeurs mobilières."
   ]
  },
  {
   "cell_type": "code",
   "execution_count": null,
   "metadata": {
    "collapsed": false
   },
   "outputs": [],
   "source": [
    "class Loader :\n",
    "\n",
    "    # 1.ajouter vos valeurs mobilières ici\n",
    "    ADA = \"Cardano\"\n",
    "    AAVE = \"Aave\"\n",
    "    BTC = \"Bitcoin\"\n",
    "    COSMOS = \"Cosmos\"\n",
    "    DOGECOIN = \"Dogecoin\"\n",
    "    ETH = \"Ethereum\"\n",
    "    LITECOIN = \"Litecoin\"\n",
    "    MONERO = \"Monero\"\n",
    "    POLKADOT = \"Polkadot\"\n",
    "    USDCOIN = \"USDCoin\"\n",
    "\n",
    "    MICROSOFT = \"Microsoft\"\n",
    "    AMAZON = \"Amazon\"\n",
    "    ATT = \"AT&T\"\n",
    "    CAC40 = \"cac40\"\n",
    "    TESLA = \"Tesla\"\n",
    "\n",
    "    # 2. ajouter la variable dans la liste\n",
    "    SECURITY = [ADA, AAVE, BTC, COSMOS, DOGECOIN, ETH, LITECOIN, MONERO, POLKADOT, USDCOIN,\n",
    "                MICROSOFT, ATT, CAC40, AMAZON, TESLA]\n",
    "\n",
    "    # 3. ajouter votre source ici (dossier `nouvelleSource` dans `data`)\n",
    "    COINCODEX = \"Coincodex\"\n",
    "    YAHOO = \"finance.yahoo.com\"\n",
    "    KAGGLE = \"Kaggle\"\n",
    "    NASDAQ = \"Nasdaq\"\n",
    "    BINANCE = \"Binance\"\n",
    "\n",
    "    # 4. ajouter votre source dans la liste\n",
    "    SOURCES = [BINANCE, COINCODEX, YAHOO, KAGGLE, NASDAQ]\n",
    "\n",
    "    # 5. ajouter votre nom de base de fichier pour la nouvelle source (la clé est la source)\n",
    "    BASE_NAME = {\n",
    "        BINANCE : \"\",\n",
    "        COINCODEX : \"coin_\",\n",
    "        YAHOO : \"\",\n",
    "        KAGGLE : \"coin_\",\n",
    "        NASDAQ : \"\"\n",
    "    }\n",
    "\n",
    "    # Granularity Day, Hour\n",
    "    GRANULARIY = ['', 'h']\n",
    "\n",
    "    def __init__(self, debug=False):\n",
    "        self.data = {}\n",
    "        self.debug = debug\n",
    "\n",
    "        for source in Loader.SOURCES :\n",
    "            self.data[source] = {}\n",
    "\n",
    "    def loadFile(self, source, security, granularity='', dateStart=None, dateEnd=None):\n",
    "        '''\n",
    "        @param granulariy: default is day. Possible value is 'h'\n",
    "        \n",
    "        '''\n",
    "        fileName = Loader.BASE_NAME[source]+security\n",
    "        \n",
    "        if(granularity != ''):\n",
    "            fileName = fileName+'-'+granularity\n",
    "        \n",
    "        fileName = fileName+\".csv\"\n",
    "\n",
    "        path = os.path.join(\"data\", source, fileName)\n",
    "\n",
    "        # print(path)\n",
    "        \n",
    "        if(os.path.isfile(path)):\n",
    "            df = pd.read_csv(path,\n",
    "                                header=0)\n",
    "            \n",
    "            df[\"Date\"] = pd.to_datetime(df[\"Date\"])\n",
    "            df[\"Date\"] = df[\"Date\"].dt.date\n",
    "            df= df.set_index(\"Date\")\n",
    "\n",
    "            df.sort_index(axis=0, inplace=True)\n",
    "            \n",
    "            # print(source, \" - \", df.columns)\n",
    "            \n",
    "            if source == Loader.BINANCE:\n",
    "                # print(\"---------------\", df.columns)\n",
    "                df = df[['high', 'low', 'open', 'Close', 'Volume']]\n",
    "                df.columns = ['High', 'Low', 'Open', 'Close', 'Volume']\n",
    "                df['Market Cap'] = None\n",
    "            elif source == Loader.COINCODEX:\n",
    "                df = df[['High', 'Low', 'Open', 'Close', 'Volume', 'Market Cap']]\n",
    "                df.columns = ['High', 'Low', 'Open', 'Close', 'Volume', 'Marketcap']\n",
    "            elif source == Loader.KAGGLE:\n",
    "                df = df[['High', 'Low', 'Open', 'Close', 'Volume', 'Marketcap']]\n",
    "                df.columns = ['High', 'Low', 'Open', 'Close', 'Volume', 'Marketcap']\n",
    "            elif source == Loader.NASDAQ:\n",
    "                # ['Close/Last', 'Volume', 'Open', 'High', 'Low']\n",
    "                df = df[['High', 'Low', 'Open', 'Close/Last', 'Volume']]\n",
    "                df.columns = ['High', 'Low', 'Open', 'Close', 'Volume']\n",
    "            elif source == Loader.YAHOO:\n",
    "                # ['Open', 'High', 'Low', 'Close', 'Adj Close', 'Volume']\n",
    "\n",
    "                df = df[['High', 'Low', 'Open', 'Close', 'Volume']]\n",
    "                df.columns = ['High', 'Low', 'Open', 'Close', 'Volume']\n",
    "\n",
    "            if(dateStart and dateEnd):\n",
    "                dateStart = datetime.strptime(dateStart, '%Y-%m-%d').date()\n",
    "                dateEnd = datetime.strptime(dateEnd, '%Y-%m-%d').date()\n",
    "                df = df.loc[dateStart:dateEnd]\n",
    "\n",
    "            self.data[source][security] = df\n",
    "            \n",
    "            if self.debug:\n",
    "                print(source, \"[\", security, \"]\",\" charged\")\n",
    "\n",
    "        else:\n",
    "            if self.debug:\n",
    "                print(source, \"[\", security, \"]\",\" not charged\")\n",
    "\n",
    "\n",
    "    def loadSource(self, source, dateStart=None, dateEnd=None, forceEqualDate=False):\n",
    "        \n",
    "        if self.debug:\n",
    "            print(\"-----------------\")\n",
    "        \n",
    "        for security in Loader.SECURITY:\n",
    "                self.loadFile(source, security, dateStart=dateStart, dateEnd=dateEnd)\n",
    "\n",
    "        # print(\"-----------------\", ((dateStart and dateEnd) or forceEqualDate))\n",
    "        \n",
    "        \n",
    "        if( (dateStart and dateEnd) or forceEqualDate):\n",
    "            startDates = []        \n",
    "            endDates =  []\n",
    "\n",
    "            for security, df in self.data[source].items():\n",
    "                startDates.append(df.index[0])\n",
    "                endDates.append(df.index[-1])\n",
    "\n",
    "            s = max(startDates)\n",
    "            e = min(endDates)\n",
    "\n",
    "            for security, df in self.data[source].items():\n",
    "                self.data[source][security] = df.loc[s:e]\n",
    "        \n",
    "    def loadSources(self, dateStart=None, dateMax=None):\n",
    "        for source in Loader.SOURCES:\n",
    "            self.loadSource(source)\n",
    "\n",
    "    def get(self, source, nameSecurity):\n",
    "        return self.data[source][nameSecurity]\n",
    "\n"
   ]
  },
  {
   "cell_type": "markdown",
   "metadata": {
    "collapsed": false
   },
   "source": [
    "### Exemple d'utilisation\n",
    "\n",
    "Pour charger une données précises, il faut indiquer :\n",
    "\n",
    "- la source des données (un dossier par source dans le dossier `data`)\n",
    "- le nom de la valeur mobilière\n",
    "- en option, les dates sur lesquels charger la donnée\n",
    "\n"
   ]
  },
  {
   "cell_type": "code",
   "execution_count": null,
   "metadata": {
    "collapsed": false
   },
   "outputs": [
    {
     "name": "stdout",
     "output_type": "stream",
     "text": [
      "High         float64\n",
      "Low          float64\n",
      "Open         float64\n",
      "Close        float64\n",
      "Volume       float64\n",
      "Marketcap    float64\n",
      "dtype: object\n",
      "df min date: 2017-10-01  max date: 2022-08-17\n"
     ]
    },
    {
     "data": {
      "text/html": [
       "<div>\n",
       "<style scoped>\n",
       "    .dataframe tbody tr th:only-of-type {\n",
       "        vertical-align: middle;\n",
       "    }\n",
       "\n",
       "    .dataframe tbody tr th {\n",
       "        vertical-align: top;\n",
       "    }\n",
       "\n",
       "    .dataframe thead th {\n",
       "        text-align: right;\n",
       "    }\n",
       "</style>\n",
       "<table border=\"1\" class=\"dataframe\">\n",
       "  <thead>\n",
       "    <tr style=\"text-align: right;\">\n",
       "      <th></th>\n",
       "      <th>High</th>\n",
       "      <th>Low</th>\n",
       "      <th>Open</th>\n",
       "      <th>Close</th>\n",
       "      <th>Volume</th>\n",
       "      <th>Marketcap</th>\n",
       "    </tr>\n",
       "    <tr>\n",
       "      <th>Date</th>\n",
       "      <th></th>\n",
       "      <th></th>\n",
       "      <th></th>\n",
       "      <th></th>\n",
       "      <th></th>\n",
       "      <th></th>\n",
       "    </tr>\n",
       "  </thead>\n",
       "  <tbody>\n",
       "    <tr>\n",
       "      <th>2017-10-01</th>\n",
       "      <td>0.030088</td>\n",
       "      <td>0.019969</td>\n",
       "      <td>0.024969</td>\n",
       "      <td>0.025808</td>\n",
       "      <td>8.310030e+07</td>\n",
       "      <td>5.672757e+08</td>\n",
       "    </tr>\n",
       "    <tr>\n",
       "      <th>2017-10-02</th>\n",
       "      <td>0.027172</td>\n",
       "      <td>0.020575</td>\n",
       "      <td>0.025671</td>\n",
       "      <td>0.020827</td>\n",
       "      <td>2.971484e+07</td>\n",
       "      <td>6.786349e+08</td>\n",
       "    </tr>\n",
       "    <tr>\n",
       "      <th>2017-10-03</th>\n",
       "      <td>0.022962</td>\n",
       "      <td>0.020828</td>\n",
       "      <td>0.020828</td>\n",
       "      <td>0.021973</td>\n",
       "      <td>1.243013e+07</td>\n",
       "      <td>5.695444e+08</td>\n",
       "    </tr>\n",
       "    <tr>\n",
       "      <th>2017-10-04</th>\n",
       "      <td>0.022245</td>\n",
       "      <td>0.020839</td>\n",
       "      <td>0.022035</td>\n",
       "      <td>0.021512</td>\n",
       "      <td>7.055960e+06</td>\n",
       "      <td>5.548686e+08</td>\n",
       "    </tr>\n",
       "    <tr>\n",
       "      <th>2017-10-05</th>\n",
       "      <td>0.021576</td>\n",
       "      <td>0.018071</td>\n",
       "      <td>0.021286</td>\n",
       "      <td>0.018481</td>\n",
       "      <td>6.207887e+06</td>\n",
       "      <td>5.219246e+08</td>\n",
       "    </tr>\n",
       "  </tbody>\n",
       "</table>\n",
       "</div>"
      ],
      "text/plain": [
       "                High       Low      Open     Close        Volume     Marketcap\n",
       "Date                                                                          \n",
       "2017-10-01  0.030088  0.019969  0.024969  0.025808  8.310030e+07  5.672757e+08\n",
       "2017-10-02  0.027172  0.020575  0.025671  0.020827  2.971484e+07  6.786349e+08\n",
       "2017-10-03  0.022962  0.020828  0.020828  0.021973  1.243013e+07  5.695444e+08\n",
       "2017-10-04  0.022245  0.020839  0.022035  0.021512  7.055960e+06  5.548686e+08\n",
       "2017-10-05  0.021576  0.018071  0.021286  0.018481  6.207887e+06  5.219246e+08"
      ]
     },
     "execution_count": 3,
     "metadata": {},
     "output_type": "execute_result"
    }
   ],
   "source": [
    "loader = Loader()\n",
    "\n",
    "loader.loadFile(Loader.COINCODEX, Loader.ADA, dateStart=\"2000-01-01\", dateEnd=\"2024-01-01\")\n",
    "\n",
    "df = loader.get(Loader.COINCODEX, Loader.ADA)\n",
    "\n",
    "print(df.dtypes)\n",
    "print(\"df min date:\", df.index[0], \" max date:\", df.index[-1])\n",
    "df.head()\n",
    "\n",
    "\n"
   ]
  },
  {
   "cell_type": "markdown",
   "metadata": {
    "collapsed": false
   },
   "source": [
    "Pour charger une source, il faut indiquer :\n",
    "- la source des données (un dossier par source dans le dossier `data`)\n",
    "- en option, les dates sur lesquels charger la donnée"
   ]
  },
  {
   "cell_type": "code",
   "execution_count": null,
   "metadata": {
    "collapsed": false
   },
   "outputs": [
    {
     "data": {
      "text/html": [
       "<div>\n",
       "<style scoped>\n",
       "    .dataframe tbody tr th:only-of-type {\n",
       "        vertical-align: middle;\n",
       "    }\n",
       "\n",
       "    .dataframe tbody tr th {\n",
       "        vertical-align: top;\n",
       "    }\n",
       "\n",
       "    .dataframe thead th {\n",
       "        text-align: right;\n",
       "    }\n",
       "</style>\n",
       "<table border=\"1\" class=\"dataframe\">\n",
       "  <thead>\n",
       "    <tr style=\"text-align: right;\">\n",
       "      <th></th>\n",
       "      <th>High</th>\n",
       "      <th>Low</th>\n",
       "      <th>Open</th>\n",
       "      <th>Close</th>\n",
       "      <th>Volume</th>\n",
       "      <th>Marketcap</th>\n",
       "    </tr>\n",
       "    <tr>\n",
       "      <th>Date</th>\n",
       "      <th></th>\n",
       "      <th></th>\n",
       "      <th></th>\n",
       "      <th></th>\n",
       "      <th></th>\n",
       "      <th></th>\n",
       "    </tr>\n",
       "  </thead>\n",
       "  <tbody>\n",
       "    <tr>\n",
       "      <th>2022-08-13</th>\n",
       "      <td>0.592463</td>\n",
       "      <td>0.557968</td>\n",
       "      <td>0.559462</td>\n",
       "      <td>0.569894</td>\n",
       "      <td>1.162096e+09</td>\n",
       "      <td>1.955747e+10</td>\n",
       "    </tr>\n",
       "    <tr>\n",
       "      <th>2022-08-14</th>\n",
       "      <td>0.579933</td>\n",
       "      <td>0.544696</td>\n",
       "      <td>0.569312</td>\n",
       "      <td>0.550622</td>\n",
       "      <td>9.264294e+08</td>\n",
       "      <td>1.896335e+10</td>\n",
       "    </tr>\n",
       "    <tr>\n",
       "      <th>2022-08-15</th>\n",
       "      <td>0.568240</td>\n",
       "      <td>0.548788</td>\n",
       "      <td>0.549579</td>\n",
       "      <td>0.558032</td>\n",
       "      <td>8.294682e+08</td>\n",
       "      <td>1.888561e+10</td>\n",
       "    </tr>\n",
       "    <tr>\n",
       "      <th>2022-08-16</th>\n",
       "      <td>0.579608</td>\n",
       "      <td>0.532226</td>\n",
       "      <td>0.557456</td>\n",
       "      <td>0.535811</td>\n",
       "      <td>9.744968e+08</td>\n",
       "      <td>1.863630e+10</td>\n",
       "    </tr>\n",
       "    <tr>\n",
       "      <th>2022-08-17</th>\n",
       "      <td>0.542771</td>\n",
       "      <td>0.511639</td>\n",
       "      <td>0.537622</td>\n",
       "      <td>0.512444</td>\n",
       "      <td>7.755839e+08</td>\n",
       "      <td>1.809868e+10</td>\n",
       "    </tr>\n",
       "  </tbody>\n",
       "</table>\n",
       "</div>"
      ],
      "text/plain": [
       "                High       Low      Open     Close        Volume     Marketcap\n",
       "Date                                                                          \n",
       "2022-08-13  0.592463  0.557968  0.559462  0.569894  1.162096e+09  1.955747e+10\n",
       "2022-08-14  0.579933  0.544696  0.569312  0.550622  9.264294e+08  1.896335e+10\n",
       "2022-08-15  0.568240  0.548788  0.549579  0.558032  8.294682e+08  1.888561e+10\n",
       "2022-08-16  0.579608  0.532226  0.557456  0.535811  9.744968e+08  1.863630e+10\n",
       "2022-08-17  0.542771  0.511639  0.537622  0.512444  7.755839e+08  1.809868e+10"
      ]
     },
     "execution_count": 4,
     "metadata": {},
     "output_type": "execute_result"
    }
   ],
   "source": [
    "\n",
    "loader.loadSource(Loader.COINCODEX, dateStart=\"2000-01-01\", dateEnd=\"2024-01-01\")\n",
    "\n",
    "df = loader.get(Loader.COINCODEX, Loader.ADA)\n",
    "\n",
    "df.tail()"
   ]
  },
  {
   "cell_type": "code",
   "execution_count": null,
   "metadata": {
    "collapsed": false
   },
   "outputs": [],
   "source": [
    "loader.loadSource(Loader.COINCODEX, forceEqualDate=True)\n",
    "loader.loadSource(Loader.KAGGLE, forceEqualDate=True)"
   ]
  },
  {
   "cell_type": "code",
   "execution_count": null,
   "metadata": {
    "collapsed": false
   },
   "outputs": [
    {
     "name": "stdout",
     "output_type": "stream",
     "text": [
      "Ada from  2017-10-01  to  2022-08-17\n",
      "Btc from  2017-10-01  to  2022-08-17\n"
     ]
    }
   ],
   "source": [
    "\n",
    "dfAda = loader.data[Loader.COINCODEX][Loader.ADA]\n",
    "dfBtc = loader.data[Loader.COINCODEX][Loader.BTC]\n",
    "\n",
    "print(\"Ada from \", dfAda.index[0], \" to \", dfAda.index[-1])\n",
    "print(\"Btc from \", dfBtc.index[0], \" to \", dfBtc.index[-1])"
   ]
  },
  {
   "cell_type": "markdown",
   "metadata": {
    "collapsed": false
   },
   "source": [
    "Pour charger toutes les données :"
   ]
  },
  {
   "cell_type": "code",
   "execution_count": null,
   "metadata": {
    "collapsed": false
   },
   "outputs": [],
   "source": [
    "loader.loadSources()"
   ]
  },
  {
   "cell_type": "code",
   "execution_count": null,
   "metadata": {
    "collapsed": false
   },
   "outputs": [],
   "source": []
  }
 ],
 "metadata": {
  "kernelspec": {
   "display_name": "Python 3",
   "language": "python",
   "name": "python3"
  },
  "language_info": {
   "codemirror_mode": {
    "name": "ipython",
    "version": 3
   },
   "file_extension": ".py",
   "mimetype": "text/x-python",
   "name": "python",
   "nbconvert_exporter": "python",
   "pygments_lexer": "ipython3",
   "version": "3.12.1"
  }
 },
 "nbformat": 4,
 "nbformat_minor": 4
}
