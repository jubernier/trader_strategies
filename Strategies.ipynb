{
 "cells": [
  {
   "cell_type": "code",
   "execution_count": 1,
   "metadata": {
    "collapsed": false
   },
   "outputs": [
   ],
   "source": [
    "class IStrategy :\n",
    "\n",
    "    def __init__(self, name=\"IStrategy\"):\n",
    "        self.name = name\n",
    "\n",
    "    def isRandom(self):\n",
    "        return False\n",
    "\n",
    "    def getAction(self, game, unityPrice, date, debug=False):\n",
    "        '''\n",
    "        @return (action, amountOfSecurity)\n",
    "        '''\n",
    "        pass\n",
    "\n",
    "    def getName(self):\n",
    "        '''\n",
    "        @return the name of the strategy\n",
    "        '''\n",
    "        return self.name"
   ]
  },
  {
   "cell_type": "code",
   "execution_count": 2,
   "metadata": {
    "collapsed": false
   },
   "outputs": [
   ],
   "source": [
    "class StrategyLongTerm(IStrategy):\n",
    "    def __init__(self, dateAchat, dateVente):\n",
    "        super().__init__(\"LongTerm\")\n",
    "        self.dateAchat=dateAchat\n",
    "        self.dateVente=dateVente\n",
    "        self.nb_and_cost_Sell=[\"nb_Sell:\",0,\"cost_Sell\",0]\n",
    "        self.nb_and_cost_Buy=[\"nb_Buy:\",0,\"cost_Buy\",0]\n",
    "        self.nb_and_cost_Still=[\"nb_Still:\",0,\"cost_Still\",0]\n",
    "\n",
    "    def getAction(self, game, unityPrice, date, debug=False):\n",
    "        if date==self.dateAchat:\n",
    "            self.nb_and_cost_Buy[1]+=1\n",
    "            self.nb_and_cost_Buy[3]+=game.account.cash/unityPrice\n",
    "            return (Game.BUY,(game.account.cash/unityPrice))\n",
    "\n",
    "        elif (date==self.dateVente):\n",
    "            self.nb_and_cost_Sell[1]+=1\n",
    "            self.nb_and_cost_Sell[3]+=game.account.security\n",
    "            return (Game.SELL, game.account.security)\n",
    "\n",
    "        elif (date<self.dateAchat) or (date>self.dateVente):\n",
    "            self.nb_and_cost_Still[1]+=1\n",
    "            return (Game.STILL, 0)\n",
    "\n",
    "        else:\n",
    "            self.nb_and_cost_Still[1]+=1\n",
    "            return (Game.STILL, 0)"
   ]
  },
  {
   "cell_type": "code",
   "execution_count": 3,
   "metadata": {
    "collapsed": false
   },
   "outputs": [
   ],
   "source": [
    "class StrategyRandom(IStrategy):\n",
    "    def __init__(self):\n",
    "        super().__init__(\"Random\")\n",
    "        self.nb_and_cost_Sell=[\"nb_Sell:\",0,\"cost_Sell\",0]\n",
    "        self.nb_and_cost_Buy=[\"nb_Buy:\",0,\"cost_Buy\",0]\n",
    "        self.nb_and_cost_Still=[\"nb_Still:\",0,\"cost_Still\",0]\n",
    "\n",
    "    def getAction(self, game, unityPrice, date, debug=False):\n",
    "        choice = random.randint(0, 2)\n",
    "        value_cash = game.account.cash*random.random()\n",
    "        value_sell = game.account.security*random.random()\n",
    "\n",
    "        if choice==0:\n",
    "            self.nb_and_cost_Buy[1]+=1\n",
    "            self.nb_and_cost_Buy[3]+=(value_cash/unityPrice)\n",
    "            return (Game.BUY, value_cash/unityPrice)\n",
    "        elif choice==1:\n",
    "            self.nb_and_cost_Sell[1]+=1\n",
    "            self.nb_and_cost_Sell[3]+=value_sell\n",
    "            return (Game.SELL, value_sell)\n",
    "        else:\n",
    "            self.nb_and_cost_Still[1]+=1\n",
    "            return (Game.STILL, 0)"
   ]
  },
  {
   "cell_type": "code",
   "execution_count": 4,
   "metadata": {
    "collapsed": false
   },
   "outputs": [
   ],
   "source": [
    "class StrategyOracle(IStrategy):\n",
    "    #le paramètre previsionJour permet de décider sur combien de jours ce font les prévisions\n",
    "    def __init__(self, previsionJour=1):\n",
    "        super().__init__(\"Oracle\")\n",
    "        self.previsionJour=previsionJour\n",
    "        self.nb_and_cost_Sell=[\"nb_Sell:\",0,\"cost_Sell\",0]\n",
    "        self.nb_and_cost_Buy=[\"nb_Buy:\",0,\"cost_Buy\",0]\n",
    "        self.nb_and_cost_Still=[\"nb_Still:\",0,\"cost_Still\",0]\n",
    "\n",
    "    def getAction(self, game, unityPrice, date, debug=False):\n",
    "        if len(game.prices) > game.clock + self.previsionJour :\n",
    "            futurPrice = game.prices[game.clock + self.previsionJour]\n",
    "            if debug:\n",
    "                print(futurPrice)\n",
    "            if (futurPrice>unityPrice):\n",
    "                return (Game.BUY, (game.account.cash/unityPrice))\n",
    "            elif (futurPrice<unityPrice):\n",
    "                self.nb_and_cost_Sell[1]+=1\n",
    "                self.nb_and_cost_Sell[3]+=game.account.security\n",
    "                return (Game.SELL, (game.account.security))\n",
    "            else:\n",
    "                self.nb_and_cost_Still[1]+=1\n",
    "                return (Game.STILL, (game.account.security))\n",
    "        else:\n",
    "            self.nb_and_cost_Still[1]+=1\n",
    "            return (Game.STILL, (game.account.security))"
   ]
  },
  {
   "cell_type": "code",
   "execution_count": 5,
   "metadata": {
    "collapsed": false
   },
   "outputs": [
   ],
   "source": [
    "class StrategyEffetJanvier(IStrategy):\n",
    "    def __init__(self):\n",
    "        super().__init__(\"EffetJanvier\")\n",
    "        self.nb_and_cost_Sell=[\"nb_Sell:\",0,\"cost_Sell\",0]\n",
    "        self.nb_and_cost_Buy=[\"nb_Buy:\",0,\"cost_Buy\",0]\n",
    "        self.nb_and_cost_Still=[\"nb_Still:\",0,\"cost_Still\",0]\n",
    "\n",
    "    def getAction(self, game, unityPrice, date, debug=False):\n",
    "        if date.month == 1 :\n",
    "            self.nb_and_cost_Buy[1]+=1\n",
    "            self.nb_and_cost_Buy[3]+=game.account.cash/unityPrice\n",
    "            return (Game.BUY, (game.account.cash/unityPrice))\n",
    "        elif date.month == 2 :\n",
    "            self.nb_and_cost_Sell[1]+=1\n",
    "            self.nb_and_cost_Sell[3]+=game.account.security\n",
    "            return (Game.SELL, (game.account.security))\n",
    "        else :\n",
    "            self.nb_and_cost_Still[1]+=1\n",
    "            return (Game.STILL, game.account.security)"
   ]
  },
  {
   "cell_type": "code",
   "execution_count": 6,
   "metadata": {
    "collapsed": false
   },
   "outputs": [
   ],
   "source": [
    "class StrategyKinjun_Sen(IStrategy):\n",
    "\n",
    "    def __init__(self, kijun_period=26):\n",
    "        super().__init__(name=\"Kinjun_Sen\")\n",
    "        self.kijun_period = kijun_period\n",
    "        self.nb_and_cost_Sell=[\"nb_Sell:\",0,\"cost_Sell\",0]\n",
    "        self.nb_and_cost_Buy=[\"nb_Buy:\",0,\"cost_Buy\",0]\n",
    "        self.nb_and_cost_Still=[\"nb_Still:\",0,\"cost_Still\",0]\n",
    "\n",
    "    def getAction(self, game, unityPrice, date, debug=False):\n",
    "        #regarde si l'historique des prix contient suffisamment de données pour calculer la moyenne Kinjun, soit jusqu'au 26ème jour.\n",
    "        if game.clock < self.kijun_period:\n",
    "            return (Game.STILL, game.account.security)\n",
    "\n",
    "        kinjun_max=max(game.prices[game.clock-self.kijun_period:game.clock])\n",
    "        kinjun_min=min(game.prices[game.clock-self.kijun_period:game.clock])\n",
    "\n",
    "        #moyenne entre le plus hauts et les plus bas prix de cette période\n",
    "        kijun_moy = (kinjun_max + kinjun_min) / 2\n",
    "\n",
    "        if unityPrice > kijun_moy:\n",
    "            self.nb_and_cost_Buy[1]+=1\n",
    "            self.nb_and_cost_Buy[3]+=game.account.cash/unityPrice\n",
    "\n",
    "            return (Game.BUY, game.account.cash / unityPrice)\n",
    "\n",
    "        elif unityPrice < kijun_moy:\n",
    "            self.nb_and_cost_Sell[1]+=1\n",
    "            self.nb_and_cost_Sell[3]+=game.account.security\n",
    "\n",
    "            return (Game.SELL, game.account.security)\n",
    "\n",
    "        else:\n",
    "            self.nb_and_cost_Still[1]+=1\n",
    "\n",
    "            return (Game.STILL, game.account.security)"
   ]
  },
  {
   "cell_type": "code",
   "execution_count": 7,
   "metadata": {
    "collapsed": false
   },
   "outputs": [
   ],
   "source": [
    "class StrategyDollarSpendOverTime(IStrategy):\n",
    "    def __init__(self, amount_to_spend=5):\n",
    "        super().__init__(\"DollarSpendOverTime\")\n",
    "        self.amount_to_spend = amount_to_spend\n",
    "        self.nb_and_cost_Sell=[\"nb_Sell:\",0,\"cost_Sell\",0]\n",
    "        self.nb_and_cost_Buy=[\"nb_Buy:\",0,\"cost_Buy\",0]\n",
    "        self.nb_and_cost_Still=[\"nb_Still:\",0,\"cost_Still\",0]\n",
    "\n",
    "    def getAction(self, game, unityPrice, date, debug=False):\n",
    "        if self.amount_to_spend > game.account.cash:\n",
    "            self.nb_and_cost_Still[1]+=1\n",
    "            return (Game.STILL, 0)\n",
    "        elif self.amount_to_spend <= game.account.cash:\n",
    "            self.nb_and_cost_Buy[1]+=1\n",
    "            self.nb_and_cost_Buy[3]+=game.account.cash/unityPrice\n",
    "            return (Game.BUY, self.amount_to_spend/unityPrice)"
   ]
  },
  {
   "cell_type": "code",
   "execution_count": 8,
   "metadata": {
    "collapsed": false
   },
   "outputs": [
   ],
   "source": [
    "class StrategyCoinFlip(IStrategy):\n",
    "    def __init__(self):\n",
    "        super().__init__(\"CoinFlip\")\n",
    "        self.nb_and_cost_Sell=[\"nb_Sell:\",0,\"cost_Sell\",0]\n",
    "        self.nb_and_cost_Buy=[\"nb_Buy:\",0,\"cost_Buy\",0]\n",
    "        self.nb_and_cost_Still=[\"nb_Still:\",0,\"cost_Still\",0]\n",
    "\n",
    "    def getAction(self, game, unityPrice, date, debug=False):\n",
    "\n",
    "        pile_face = random.randint(0, 1)\n",
    "\n",
    "        if pile_face == 0:\n",
    "            shares_to_buy = game.account.cash / unityPrice\n",
    "            if shares_to_buy > 0:\n",
    "                self.nb_and_cost_Buy[1]+=1\n",
    "                self.nb_and_cost_Buy[3]+=game.account.cash/unityPrice\n",
    "                return (Game.BUY, shares_to_buy)\n",
    "        else:\n",
    "            if game.account.security > 0:\n",
    "                self.nb_and_cost_Sell[1]+=1\n",
    "                self.nb_and_cost_Sell[3]+=game.account.security\n",
    "                return (Game.SELL, game.account.security)\n",
    "        self.nb_and_cost_Still[1]+=1\n",
    "        return (Game.STILL, 0)"
   ]
  },
  {
   "cell_type": "code",
   "execution_count": 9,
   "metadata": {
    "collapsed": false
   },
   "outputs": [
   ],
   "source": [
    "class StrategyVeille(IStrategy):\n",
    "    def __init__(self):\n",
    "        super().__init__(\"Veille\")\n",
    "        self.nb_and_cost_Sell=[\"nb_Sell:\",0,\"cost_Sell\",0]\n",
    "        self.nb_and_cost_Buy=[\"nb_Buy:\",0,\"cost_Buy\",0]\n",
    "        self.nb_and_cost_Still=[\"nb_Still:\",0,\"cost_Still\",0]\n",
    "\n",
    "    def getAction(self, game, unityPrice, date, debug=False):\n",
    "\n",
    "        veille = game.prices[game.clock-1]\n",
    "\n",
    "        if veille < unityPrice:\n",
    "            shares_to_buy = game.account.cash / unityPrice\n",
    "            self.nb_and_cost_Buy[1]+=1\n",
    "            self.nb_and_cost_Buy[3]+=shares_to_buy\n",
    "            return (Game.BUY, shares_to_buy)\n",
    "        elif veille > unityPrice :\n",
    "            self.nb_and_cost_Sell[1]+=1\n",
    "            self.nb_and_cost_Sell[3]+=game.account.security\n",
    "            return (Game.SELL, game.account.security)\n",
    "        else :\n",
    "            self.nb_and_cost_Still[1]+=1\n",
    "            return (Game.STILL, 0)"
   ]
  },
  {
   "cell_type": "code",
   "execution_count": 10,
   "metadata": {
    "collapsed": false
   },
   "outputs": [
   ],
   "source": [
    "#strategy Les investisseurs doivent être prêts à vendre des actions si elles ne répondent plus à leurs critères d'investissement ou si une meilleure opportunité d'investissement se présente.\n",
    "class StrategyInvestmentThreshold(IStrategy):\n",
    "\n",
    "    def __init__(self, threshold):\n",
    "        super().__init__(name=\"InvestmentThreshold\")\n",
    "        #self.serie = serie\n",
    "        self.threshold = threshold\n",
    "        self.nb_and_cost_Sell=[\"nb_Sell:\",0,\"cost_Sell\",0]\n",
    "        self.nb_and_cost_Buy=[\"nb_Buy:\",0,\"cost_Buy\",0]\n",
    "        self.nb_and_cost_Still=[\"nb_Still:\",0,\"cost_Still\",0]\n",
    "\n",
    "    def getAction(self, game, unityPrice, date, debug=False):\n",
    "\n",
    "        if game.clock < 30 :\n",
    "            return (Game.STILL, 0)\n",
    "\n",
    "        #On calcule la moyenne mobile sur les 30 derniers instants\n",
    "        #rolling = self.serie.rolling(30).mean()\n",
    "        rollingmean = game.prices[game.clock-30:game.clock].mean()\n",
    "\n",
    "        # On prend la dernière observation, observation du jour\n",
    "        last_price = unityPrice\n",
    "\n",
    "        # Si le dernier prix est en dessous du seuil fixé par l'utilisateur et que la moyenne mobile est également en dessous de ce seuil, \n",
    "        # alors on estime que le prix va remonter, donc on achète\n",
    "        if last_price < self.threshold and rollingmean < self.threshold:\n",
    "            self.nb_and_cost_Buy[1]+=1\n",
    "            self.nb_and_cost_Buy[3]+=game.account.cash / last_price\n",
    "            return (Game.BUY, game.account.cash / last_price)\n",
    "\n",
    "        # Si le dernier prix est au-dessus du seuil fixé par l'utilisateur et que la moyenne mobile est également au-dessus de ce seuil,\n",
    "        # alors on estime que le prix va baisser, donc on vend\n",
    "        elif last_price > self.threshold and rollingmean > self.threshold:\n",
    "            self.nb_and_cost_Sell[1]+=1\n",
    "            self.nb_and_cost_Sell[3]+=game.account.security\n",
    "            return (Game.SELL, game.account.security)\n",
    "\n",
    "        # Sinon, on ne fait rien\n",
    "        else:\n",
    "            self.nb_and_cost_Still[1]+=1\n",
    "            return (Game.STILL, 0)\n"
   ]
  },
  {
   "cell_type": "code",
   "execution_count": 11,
   "metadata": {
    "collapsed": false
   },
   "outputs": [
   ],
   "source": [
    "class StrategyIntrinsicPrice(IStrategy):\n",
    "\n",
    "    def __init__(self, margin_of_safety=0.1, period_accuracy=30):\n",
    "        super().__init__(name=\"IntrinsicPrice\")\n",
    "        self.margin_of_safety = margin_of_safety\n",
    "        self.period_accuracy = period_accuracy\n",
    "        self.nb_and_cost_Sell=[\"nb_Sell:\",0,\"cost_Sell\",0]\n",
    "        self.nb_and_cost_Buy=[\"nb_Buy:\",0,\"cost_Buy\",0]\n",
    "        self.nb_and_cost_Still=[\"nb_Still:\",0,\"cost_Still\",0]\n",
    "\n",
    "    def getAction(self, game, unityPrice, date, debug=False):\n",
    "\n",
    "        if game.clock < self.period_accuracy:\n",
    "            return (Game.STILL, 0)\n",
    "\n",
    "        #période sur laquelle on va pouvoir récupérer les bénéfices\n",
    "        period_profit = game.prices[max(0, game.clock-self.period_accuracy):game.clock]\n",
    "\n",
    "        # calculer le bénéfice moyen sur la période considérée\n",
    "        avg_earnings = 0.0\n",
    "        if len(period_profit) > 0:\n",
    "            avg_earnings = sum(period_profit) / len(period_profit)\n",
    "        else:\n",
    "            avg_earnings = game.prices[game.clock]\n",
    "\n",
    "        #calculer le ratio cours/bénéfice de la période considérée\n",
    "        #le ratio reflète la valeur intrinsèque de la cryptomonnaie sans marge de sécurité\n",
    "        ratio = unityPrice / avg_earnings\n",
    "\n",
    "        #Récupérer le prix intrinsèque (intrinsic_price) en utilisant une marge de sécurité\n",
    "        intrinsic_price = ratio * (1.0 - self.margin_of_safety)\n",
    "\n",
    "        #Acheter si le prix est inférieur à intrinsic_price\n",
    "        if unityPrice < intrinsic_price:\n",
    "            value_buy = game.account.cash / unityPrice\n",
    "            self.nb_and_cost_Buy[1]+=1\n",
    "            self.nb_and_cost_Buy[3]+=value_buy\n",
    "            return (Game.BUY, value_buy)\n",
    "\n",
    "        #Vendre si le prix est supérieur à intrinsic_price\n",
    "        elif unityPrice > intrinsic_price and game.account.security > 0:\n",
    "            self.nb_and_cost_Sell[1]+=1\n",
    "            self.nb_and_cost_Sell[3]+=game.account.security\n",
    "            return (Game.SELL, game.account.security)\n",
    "\n",
    "        #Rester sur place si le prix est égal à intrinsic_price\n",
    "        else:\n",
    "            self.nb_and_cost_Still[1]+=1\n",
    "            return (Game.STILL, 0)"
   ]
  }
 ],
 "metadata": {
  "kernelspec": {
   "display_name": "Python 3 (Ubuntu Linux)",
   "language": "python",
   "name": "python3-ubuntu",
   "resource_dir": "/usr/local/share/jupyter/kernels/python3-ubuntu"
  },
  "language_info": {
   "codemirror_mode": {
    "name": "ipython",
    "version": 3
   },
   "file_extension": ".py",
   "mimetype": "text/x-python",
   "name": "python",
   "nbconvert_exporter": "python",
   "pygments_lexer": "ipython3",
   "version": "3.8.10"
  }
 },
 "nbformat": 4,
 "nbformat_minor": 4
}